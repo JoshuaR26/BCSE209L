{
 "cells": [
  {
   "cell_type": "markdown",
   "id": "59b954c2",
   "metadata": {
    "papermill": {
     "duration": 0.006183,
     "end_time": "2022-11-11T13:00:39.532517",
     "exception": false,
     "start_time": "2022-11-11T13:00:39.526334",
     "status": "completed"
    },
    "tags": []
   },
   "source": [
    "<div style=\"color:white;\n",
    "           display:fill;\n",
    "           border-radius:5px;\n",
    "           background-color:#5642C5;\n",
    "           font-size:100%;\n",
    "           font-family:Verdana;\n",
    "           text-align: center;\n",
    "           letter-spacing:0.5px\">\n",
    "\n",
    "<p style=\"padding: 10px;\n",
    "          text-align: center;\n",
    "          font-size:90%;\n",
    "              color:white;\">\n",
    "Context\n",
    "</p>\n",
    "</div>"
   ]
  },
  {
   "cell_type": "markdown",
   "id": "677fe6b0",
   "metadata": {
    "papermill": {
     "duration": 0.006231,
     "end_time": "2022-11-11T13:00:39.544359",
     "exception": false,
     "start_time": "2022-11-11T13:00:39.538128",
     "status": "completed"
    },
    "tags": []
   },
   "source": [
    "“**Support Vector Machine**” (SVM) is a supervised machine learning algorithm which can be used for both classification or regression challenges. \n",
    "\n",
    "However, it is mostly used in classification problems. \n",
    "\n",
    "In the SVM algorithm, we plot each data item as a point in n-dimensional space (where n is a number of features you have) with the value of each feature being the value of a particular coordinate. \n",
    "\n",
    "Then, we perform classification by finding the hyper-plane that differentiates the two classes very well.\n",
    "\n",
    "![](https://miro.medium.com/max/1400/1*CS-OYdiRLCBMBiOpEURy0g.png)\n"
   ]
  },
  {
   "cell_type": "markdown",
   "id": "46c806ab",
   "metadata": {
    "papermill": {
     "duration": 0.005048,
     "end_time": "2022-11-11T13:00:39.556162",
     "exception": false,
     "start_time": "2022-11-11T13:00:39.551114",
     "status": "completed"
    },
    "tags": []
   },
   "source": [
    "<div style=\"color:white;\n",
    "           display:fill;\n",
    "           border-radius:5px;\n",
    "           background-color:#5642C5;\n",
    "           font-size:100%;\n",
    "           font-family:Verdana;\n",
    "           text-align: center;\n",
    "           letter-spacing:0.5px\">\n",
    "\n",
    "<p style=\"padding: 10px;\n",
    "          text-align: center;\n",
    "          font-size:85%;\n",
    "              color:white;\">\n",
    "Library Imports\n",
    "</p>\n",
    "</div>"
   ]
  },
  {
   "cell_type": "code",
   "execution_count": 1,
   "id": "cb26009f",
   "metadata": {
    "_cell_guid": "b1076dfc-b9ad-4769-8c92-a6c4dae69d19",
    "_uuid": "8f2839f25d086af736a60e9eeb907d3b93b6e0e5",
    "execution": {
     "iopub.execute_input": "2022-11-11T13:00:39.568858Z",
     "iopub.status.busy": "2022-11-11T13:00:39.568132Z",
     "iopub.status.idle": "2022-11-11T13:00:39.576815Z",
     "shell.execute_reply": "2022-11-11T13:00:39.576055Z"
    },
    "papermill": {
     "duration": 0.017888,
     "end_time": "2022-11-11T13:00:39.579146",
     "exception": false,
     "start_time": "2022-11-11T13:00:39.561258",
     "status": "completed"
    },
    "tags": []
   },
   "outputs": [],
   "source": [
    "import numpy as np # linear algebra\n",
    "import pandas as pd # data processing, CSV file I/O (e.g. pd.read_csv)\n",
    "import matplotlib.pyplot as plt"
   ]
  },
  {
   "cell_type": "code",
   "execution_count": 2,
   "id": "8bc54290",
   "metadata": {
    "execution": {
     "iopub.execute_input": "2022-11-11T13:00:39.592303Z",
     "iopub.status.busy": "2022-11-11T13:00:39.591621Z",
     "iopub.status.idle": "2022-11-11T13:00:41.029288Z",
     "shell.execute_reply": "2022-11-11T13:00:41.027775Z"
    },
    "papermill": {
     "duration": 1.447376,
     "end_time": "2022-11-11T13:00:41.031797",
     "exception": false,
     "start_time": "2022-11-11T13:00:39.584421",
     "status": "completed"
    },
    "tags": []
   },
   "outputs": [],
   "source": [
    "from sklearn.feature_extraction.text import CountVectorizer\n",
    "from sklearn.model_selection import GridSearchCV\n",
    "from sklearn import svm"
   ]
  },
  {
   "cell_type": "code",
   "execution_count": 3,
   "id": "719e1d32",
   "metadata": {
    "execution": {
     "iopub.execute_input": "2022-11-11T13:00:41.044127Z",
     "iopub.status.busy": "2022-11-11T13:00:41.043724Z",
     "iopub.status.idle": "2022-11-11T13:00:41.048719Z",
     "shell.execute_reply": "2022-11-11T13:00:41.047574Z"
    },
    "papermill": {
     "duration": 0.014059,
     "end_time": "2022-11-11T13:00:41.051270",
     "exception": false,
     "start_time": "2022-11-11T13:00:41.037211",
     "status": "completed"
    },
    "tags": []
   },
   "outputs": [],
   "source": [
    "from sklearn.model_selection import train_test_split"
   ]
  },
  {
   "cell_type": "code",
   "execution_count": 4,
   "id": "c6de4557",
   "metadata": {
    "execution": {
     "iopub.execute_input": "2022-11-11T13:00:41.063863Z",
     "iopub.status.busy": "2022-11-11T13:00:41.063478Z",
     "iopub.status.idle": "2022-11-11T13:00:41.068233Z",
     "shell.execute_reply": "2022-11-11T13:00:41.067201Z"
    },
    "papermill": {
     "duration": 0.013559,
     "end_time": "2022-11-11T13:00:41.070303",
     "exception": false,
     "start_time": "2022-11-11T13:00:41.056744",
     "status": "completed"
    },
    "tags": []
   },
   "outputs": [],
   "source": [
    "from sklearn.svm import SVC"
   ]
  },
  {
   "cell_type": "markdown",
   "id": "cbe77bac",
   "metadata": {
    "papermill": {
     "duration": 0.005014,
     "end_time": "2022-11-11T13:00:41.080697",
     "exception": false,
     "start_time": "2022-11-11T13:00:41.075683",
     "status": "completed"
    },
    "tags": []
   },
   "source": [
    "<div style=\"color:white;\n",
    "           display:fill;\n",
    "           border-radius:5px;\n",
    "           background-color:#5642C5;\n",
    "           font-size:100%;\n",
    "           font-family:Verdana;\n",
    "           text-align: center;\n",
    "           letter-spacing:0.5px\">\n",
    "\n",
    "<p style=\"padding: 10px;\n",
    "          text-align: center;\n",
    "          font-size:85%;\n",
    "              color:white;\">\n",
    "Loading Dataset\n",
    "</p>\n",
    "</div>"
   ]
  },
  {
   "cell_type": "code",
   "execution_count": 5,
   "id": "b532a7ce",
   "metadata": {
    "execution": {
     "iopub.execute_input": "2022-11-11T13:00:41.094994Z",
     "iopub.status.busy": "2022-11-11T13:00:41.094067Z",
     "iopub.status.idle": "2022-11-11T13:00:41.133975Z",
     "shell.execute_reply": "2022-11-11T13:00:41.132810Z"
    },
    "papermill": {
     "duration": 0.049468,
     "end_time": "2022-11-11T13:00:41.136940",
     "exception": false,
     "start_time": "2022-11-11T13:00:41.087472",
     "status": "completed"
    },
    "tags": []
   },
   "outputs": [],
   "source": [
    "df=pd.read_csv('../input/spam-email/spam.csv')"
   ]
  },
  {
   "cell_type": "markdown",
   "id": "bdf8be00",
   "metadata": {
    "papermill": {
     "duration": 0.0052,
     "end_time": "2022-11-11T13:00:41.147991",
     "exception": false,
     "start_time": "2022-11-11T13:00:41.142791",
     "status": "completed"
    },
    "tags": []
   },
   "source": [
    "<div style=\"color:white;\n",
    "           display:fill;\n",
    "           border-radius:5px;\n",
    "           background-color:#5642C5;\n",
    "           font-size:100%;\n",
    "           font-family:Verdana;\n",
    "           text-align: center;\n",
    "           letter-spacing:0.5px\">\n",
    "\n",
    "<p style=\"padding: 10px;\n",
    "          text-align: center;\n",
    "          font-size:85%;\n",
    "              color:white;\">\n",
    "Information about Dataset\n",
    "</p>\n",
    "</div>"
   ]
  },
  {
   "cell_type": "code",
   "execution_count": 6,
   "id": "8aef62f8",
   "metadata": {
    "execution": {
     "iopub.execute_input": "2022-11-11T13:00:41.160517Z",
     "iopub.status.busy": "2022-11-11T13:00:41.159937Z",
     "iopub.status.idle": "2022-11-11T13:00:41.187824Z",
     "shell.execute_reply": "2022-11-11T13:00:41.186947Z"
    },
    "papermill": {
     "duration": 0.036704,
     "end_time": "2022-11-11T13:00:41.190066",
     "exception": false,
     "start_time": "2022-11-11T13:00:41.153362",
     "status": "completed"
    },
    "tags": []
   },
   "outputs": [
    {
     "name": "stdout",
     "output_type": "stream",
     "text": [
      "<class 'pandas.core.frame.DataFrame'>\n",
      "RangeIndex: 5572 entries, 0 to 5571\n",
      "Data columns (total 2 columns):\n",
      " #   Column    Non-Null Count  Dtype \n",
      "---  ------    --------------  ----- \n",
      " 0   Category  5572 non-null   object\n",
      " 1   Message   5572 non-null   object\n",
      "dtypes: object(2)\n",
      "memory usage: 87.2+ KB\n"
     ]
    }
   ],
   "source": [
    "df.info()"
   ]
  },
  {
   "cell_type": "code",
   "execution_count": 7,
   "id": "0ff40d81",
   "metadata": {
    "execution": {
     "iopub.execute_input": "2022-11-11T13:00:41.202573Z",
     "iopub.status.busy": "2022-11-11T13:00:41.202027Z",
     "iopub.status.idle": "2022-11-11T13:00:41.210030Z",
     "shell.execute_reply": "2022-11-11T13:00:41.209068Z"
    },
    "papermill": {
     "duration": 0.01748,
     "end_time": "2022-11-11T13:00:41.212842",
     "exception": false,
     "start_time": "2022-11-11T13:00:41.195362",
     "status": "completed"
    },
    "tags": []
   },
   "outputs": [
    {
     "data": {
      "text/plain": [
       "(5572, 2)"
      ]
     },
     "execution_count": 7,
     "metadata": {},
     "output_type": "execute_result"
    }
   ],
   "source": [
    "df.shape"
   ]
  },
  {
   "cell_type": "code",
   "execution_count": 8,
   "id": "5dbe9676",
   "metadata": {
    "execution": {
     "iopub.execute_input": "2022-11-11T13:00:41.225213Z",
     "iopub.status.busy": "2022-11-11T13:00:41.224891Z",
     "iopub.status.idle": "2022-11-11T13:00:41.240480Z",
     "shell.execute_reply": "2022-11-11T13:00:41.239484Z"
    },
    "papermill": {
     "duration": 0.024315,
     "end_time": "2022-11-11T13:00:41.242723",
     "exception": false,
     "start_time": "2022-11-11T13:00:41.218408",
     "status": "completed"
    },
    "tags": []
   },
   "outputs": [
    {
     "data": {
      "text/html": [
       "<div>\n",
       "<style scoped>\n",
       "    .dataframe tbody tr th:only-of-type {\n",
       "        vertical-align: middle;\n",
       "    }\n",
       "\n",
       "    .dataframe tbody tr th {\n",
       "        vertical-align: top;\n",
       "    }\n",
       "\n",
       "    .dataframe thead th {\n",
       "        text-align: right;\n",
       "    }\n",
       "</style>\n",
       "<table border=\"1\" class=\"dataframe\">\n",
       "  <thead>\n",
       "    <tr style=\"text-align: right;\">\n",
       "      <th></th>\n",
       "      <th>Category</th>\n",
       "      <th>Message</th>\n",
       "    </tr>\n",
       "  </thead>\n",
       "  <tbody>\n",
       "    <tr>\n",
       "      <th>0</th>\n",
       "      <td>ham</td>\n",
       "      <td>Go until jurong point, crazy.. Available only ...</td>\n",
       "    </tr>\n",
       "    <tr>\n",
       "      <th>1</th>\n",
       "      <td>ham</td>\n",
       "      <td>Ok lar... Joking wif u oni...</td>\n",
       "    </tr>\n",
       "    <tr>\n",
       "      <th>2</th>\n",
       "      <td>spam</td>\n",
       "      <td>Free entry in 2 a wkly comp to win FA Cup fina...</td>\n",
       "    </tr>\n",
       "    <tr>\n",
       "      <th>3</th>\n",
       "      <td>ham</td>\n",
       "      <td>U dun say so early hor... U c already then say...</td>\n",
       "    </tr>\n",
       "    <tr>\n",
       "      <th>4</th>\n",
       "      <td>ham</td>\n",
       "      <td>Nah I don't think he goes to usf, he lives aro...</td>\n",
       "    </tr>\n",
       "  </tbody>\n",
       "</table>\n",
       "</div>"
      ],
      "text/plain": [
       "  Category                                            Message\n",
       "0      ham  Go until jurong point, crazy.. Available only ...\n",
       "1      ham                      Ok lar... Joking wif u oni...\n",
       "2     spam  Free entry in 2 a wkly comp to win FA Cup fina...\n",
       "3      ham  U dun say so early hor... U c already then say...\n",
       "4      ham  Nah I don't think he goes to usf, he lives aro..."
      ]
     },
     "execution_count": 8,
     "metadata": {},
     "output_type": "execute_result"
    }
   ],
   "source": [
    "df.head()"
   ]
  },
  {
   "cell_type": "code",
   "execution_count": 9,
   "id": "15c96cc9",
   "metadata": {
    "execution": {
     "iopub.execute_input": "2022-11-11T13:00:41.255613Z",
     "iopub.status.busy": "2022-11-11T13:00:41.255259Z",
     "iopub.status.idle": "2022-11-11T13:00:41.264473Z",
     "shell.execute_reply": "2022-11-11T13:00:41.263075Z"
    },
    "papermill": {
     "duration": 0.018368,
     "end_time": "2022-11-11T13:00:41.266780",
     "exception": false,
     "start_time": "2022-11-11T13:00:41.248412",
     "status": "completed"
    },
    "tags": []
   },
   "outputs": [
    {
     "data": {
      "text/plain": [
       "Category    0\n",
       "Message     0\n",
       "dtype: int64"
      ]
     },
     "execution_count": 9,
     "metadata": {},
     "output_type": "execute_result"
    }
   ],
   "source": [
    "df.isna().sum()"
   ]
  },
  {
   "cell_type": "code",
   "execution_count": 10,
   "id": "5e0bd332",
   "metadata": {
    "execution": {
     "iopub.execute_input": "2022-11-11T13:00:41.279943Z",
     "iopub.status.busy": "2022-11-11T13:00:41.279563Z",
     "iopub.status.idle": "2022-11-11T13:00:41.473569Z",
     "shell.execute_reply": "2022-11-11T13:00:41.471747Z"
    },
    "papermill": {
     "duration": 0.203186,
     "end_time": "2022-11-11T13:00:41.475716",
     "exception": false,
     "start_time": "2022-11-11T13:00:41.272530",
     "status": "completed"
    },
    "tags": []
   },
   "outputs": [
    {
     "data": {
      "text/plain": [
       "Text(0.5, 1.0, 'Pie chart')"
      ]
     },
     "execution_count": 10,
     "metadata": {},
     "output_type": "execute_result"
    },
    {
     "data": {
      "image/png": "[encoded data removed]",
      "text/plain": [
       "<Figure size 576x576 with 1 Axes>"
      ]
     },
     "metadata": {},
     "output_type": "display_data"
    }
   ],
   "source": [
    "plt.figure(figsize = (8, 8))\n",
    "df['Category'].value_counts().plot(kind = 'pie', autopct='%1.0f%%')\n",
    "plt.title('Pie chart')"
   ]
  },
  {
   "cell_type": "code",
   "execution_count": 11,
   "id": "2dbe3fbb",
   "metadata": {
    "execution": {
     "iopub.execute_input": "2022-11-11T13:00:41.493245Z",
     "iopub.status.busy": "2022-11-11T13:00:41.492130Z",
     "iopub.status.idle": "2022-11-11T13:00:41.496981Z",
     "shell.execute_reply": "2022-11-11T13:00:41.496270Z"
    },
    "papermill": {
     "duration": 0.015556,
     "end_time": "2022-11-11T13:00:41.498955",
     "exception": false,
     "start_time": "2022-11-11T13:00:41.483399",
     "status": "completed"
    },
    "tags": []
   },
   "outputs": [],
   "source": [
    "x = df['Message'].values\n",
    "y = df['Category'].values"
   ]
  },
  {
   "cell_type": "markdown",
   "id": "4dc999d5",
   "metadata": {
    "papermill": {
     "duration": 0.007367,
     "end_time": "2022-11-11T13:00:41.514320",
     "exception": false,
     "start_time": "2022-11-11T13:00:41.506953",
     "status": "completed"
    },
    "tags": []
   },
   "source": [
    "<div style=\"color:white;\n",
    "           display:fill;\n",
    "           border-radius:5px;\n",
    "           background-color:#5642C5;\n",
    "           font-size:100%;\n",
    "           font-family:Verdana;\n",
    "           text-align: center;\n",
    "           letter-spacing:0.5px\">\n",
    "\n",
    "<p style=\"padding: 10px;\n",
    "          text-align: center;\n",
    "          font-size:85%;\n",
    "              color:white;\">\n",
    "Train Test split\n",
    "</p>\n",
    "</div>"
   ]
  },
  {
   "cell_type": "code",
   "execution_count": 12,
   "id": "26222a44",
   "metadata": {
    "execution": {
     "iopub.execute_input": "2022-11-11T13:00:41.531238Z",
     "iopub.status.busy": "2022-11-11T13:00:41.530634Z",
     "iopub.status.idle": "2022-11-11T13:00:41.536431Z",
     "shell.execute_reply": "2022-11-11T13:00:41.535224Z"
    },
    "papermill": {
     "duration": 0.016592,
     "end_time": "2022-11-11T13:00:41.538756",
     "exception": false,
     "start_time": "2022-11-11T13:00:41.522164",
     "status": "completed"
    },
    "tags": []
   },
   "outputs": [],
   "source": [
    "x_train, x_test, y_train, y_test = train_test_split( x, y, test_size = 0.2, random_state=0)"
   ]
  },
  {
   "cell_type": "markdown",
   "id": "05f8afef",
   "metadata": {
    "papermill": {
     "duration": 0.005952,
     "end_time": "2022-11-11T13:00:41.550936",
     "exception": false,
     "start_time": "2022-11-11T13:00:41.544984",
     "status": "completed"
    },
    "tags": []
   },
   "source": [
    "<div style=\"color:white;\n",
    "           display:fill;\n",
    "           border-radius:5px;\n",
    "           background-color:#5642C5;\n",
    "           font-size:100%;\n",
    "           font-family:Verdana;\n",
    "           text-align: center;\n",
    "           letter-spacing:0.5px\">\n",
    "\n",
    "<p style=\"padding: 10px;\n",
    "          text-align: center;\n",
    "          font-size:85%;\n",
    "              color:white;\">\n",
    "Converting String to Integer\n",
    "</p>\n",
    "</div>"
   ]
  },
  {
   "cell_type": "code",
   "execution_count": 13,
   "id": "042ff84d",
   "metadata": {
    "execution": {
     "iopub.execute_input": "2022-11-11T13:00:41.565268Z",
     "iopub.status.busy": "2022-11-11T13:00:41.564598Z",
     "iopub.status.idle": "2022-11-11T13:00:41.658370Z",
     "shell.execute_reply": "2022-11-11T13:00:41.656993Z"
    },
    "papermill": {
     "duration": 0.104327,
     "end_time": "2022-11-11T13:00:41.661284",
     "exception": false,
     "start_time": "2022-11-11T13:00:41.556957",
     "status": "completed"
    },
    "tags": []
   },
   "outputs": [],
   "source": [
    "cv = CountVectorizer() \n",
    "x_train = cv.fit_transform(x_train)\n",
    "x_test = cv.transform(x_test)"
   ]
  },
  {
   "cell_type": "markdown",
   "id": "13545b28",
   "metadata": {
    "papermill": {
     "duration": 0.005662,
     "end_time": "2022-11-11T13:00:41.672982",
     "exception": false,
     "start_time": "2022-11-11T13:00:41.667320",
     "status": "completed"
    },
    "tags": []
   },
   "source": [
    "<div style=\"color:white;\n",
    "           display:fill;\n",
    "           border-radius:5px;\n",
    "           background-color:#5642C5;\n",
    "           font-size:100%;\n",
    "           font-family:Verdana;\n",
    "           text-align: center;\n",
    "           letter-spacing:0.5px\">\n",
    "\n",
    "<p style=\"padding: 10px;\n",
    "          text-align: center;\n",
    "          font-size:85%;\n",
    "              color:white;\">\n",
    "Applying SVM algorithm\n",
    "</p>\n",
    "</div>"
   ]
  },
  {
   "cell_type": "code",
   "execution_count": 14,
   "id": "cc9765c9",
   "metadata": {
    "execution": {
     "iopub.execute_input": "2022-11-11T13:00:41.686319Z",
     "iopub.status.busy": "2022-11-11T13:00:41.685989Z",
     "iopub.status.idle": "2022-11-11T13:00:42.648576Z",
     "shell.execute_reply": "2022-11-11T13:00:42.647161Z"
    },
    "papermill": {
     "duration": 0.971518,
     "end_time": "2022-11-11T13:00:42.650564",
     "exception": false,
     "start_time": "2022-11-11T13:00:41.679046",
     "status": "completed"
    },
    "tags": []
   },
   "outputs": [
    {
     "data": {
      "text/plain": [
       "SVC(random_state=0)"
      ]
     },
     "execution_count": 14,
     "metadata": {},
     "output_type": "execute_result"
    }
   ],
   "source": [
    "model = SVC(random_state = 0)\n",
    "model.fit(x_train, y_train)"
   ]
  },
  {
   "cell_type": "code",
   "execution_count": 15,
   "id": "47b2859a",
   "metadata": {
    "execution": {
     "iopub.execute_input": "2022-11-11T13:00:42.664277Z",
     "iopub.status.busy": "2022-11-11T13:00:42.663938Z",
     "iopub.status.idle": "2022-11-11T13:00:42.887217Z",
     "shell.execute_reply": "2022-11-11T13:00:42.885796Z"
    },
    "papermill": {
     "duration": 0.233147,
     "end_time": "2022-11-11T13:00:42.889744",
     "exception": false,
     "start_time": "2022-11-11T13:00:42.656597",
     "status": "completed"
    },
    "tags": []
   },
   "outputs": [
    {
     "data": {
      "text/plain": [
       "0.9820627802690582"
      ]
     },
     "execution_count": 15,
     "metadata": {},
     "output_type": "execute_result"
    }
   ],
   "source": [
    "model.score(x_test,y_test)"
   ]
  },
  {
   "cell_type": "code",
   "execution_count": null,
   "id": "edb5f0e2",
   "metadata": {
    "papermill": {
     "duration": 0.006095,
     "end_time": "2022-11-11T13:00:42.903012",
     "exception": false,
     "start_time": "2022-11-11T13:00:42.896917",
     "status": "completed"
    },
    "tags": []
   },
   "outputs": [],
   "source": []
  },
  {
   "cell_type": "markdown",
   "id": "db35f5fb",
   "metadata": {
    "papermill": {
     "duration": 0.006005,
     "end_time": "2022-11-11T13:00:42.915342",
     "exception": false,
     "start_time": "2022-11-11T13:00:42.909337",
     "status": "completed"
    },
    "tags": []
   },
   "source": [
    "## <div style='color:#016CC9;text-align:center;font-size:100%'>Thank you for reading!<br>Please let me know if you have any questions or feedback 🙂</div>"
   ]
  }
 ],
 "metadata": {
  "kernelspec": {
   "display_name": "Python 3",
   "language": "python",
   "name": "python3"
  },
  "language_info": {
   "codemirror_mode": {
    "name": "ipython",
    "version": 3
   },
   "file_extension": ".py",
   "mimetype": "text/x-python",
   "name": "python",
   "nbconvert_exporter": "python",
   "pygments_lexer": "ipython3",
   "version": "3.7.12"
  },
  "papermill": {
   "default_parameters": {},
   "duration": 12.348361,
   "end_time": "2022-11-11T13:00:43.745292",
   "environment_variables": {},
   "exception": null,
   "input_path": "__notebook__.ipynb",
   "output_path": "__notebook__.ipynb",
   "parameters": {},
   "start_time": "2022-11-11T13:00:31.396931",
   "version": "2.3.4"
  }
 },
 "nbformat": 4,
 "nbformat_minor": 5
}
